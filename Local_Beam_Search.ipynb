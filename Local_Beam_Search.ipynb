{
  "nbformat": 4,
  "nbformat_minor": 0,
  "metadata": {
    "colab": {
      "provenance": [],
      "authorship_tag": "ABX9TyOg4MHEml2+dL0EfuN7OIjr",
      "include_colab_link": true
    },
    "kernelspec": {
      "name": "python3",
      "display_name": "Python 3"
    },
    "language_info": {
      "name": "python"
    }
  },
  "cells": [
    {
      "cell_type": "markdown",
      "metadata": {
        "id": "view-in-github",
        "colab_type": "text"
      },
      "source": [
        "<a href=\"https://colab.research.google.com/github/ahussain1724/Project1/blob/main/Local_Beam_Search.ipynb\" target=\"_parent\"><img src=\"https://colab.research.google.com/assets/colab-badge.svg\" alt=\"Open In Colab\"/></a>"
      ]
    },
    {
      "cell_type": "code",
      "execution_count": 1,
      "metadata": {
        "colab": {
          "base_uri": "https://localhost:8080/",
          "height": 2494
        },
        "id": "WN7AJBCU7KHO",
        "outputId": "787aae1d-91de-4c18-86f0-bc5a83a09b08"
      },
      "outputs": [
        {
          "output_type": "stream",
          "name": "stdout",
          "text": [
            "Beam Width: 2\n",
            "No solution found within maximum iterations.\n",
            "Solution found: [2, 5, 3, 1, 7, 4, 6, 0]\n",
            "No solution found within maximum iterations.\n",
            "No solution found within maximum iterations.\n",
            "No solution found within maximum iterations.\n",
            "Solution found: [3, 7, 0, 4, 6, 1, 5, 2]\n",
            "Solution found: [3, 1, 7, 5, 0, 2, 4, 6]\n",
            "No solution found within maximum iterations.\n",
            "Solution found: [0, 6, 3, 5, 7, 1, 4, 2]\n",
            "Solution found: [3, 5, 7, 1, 6, 0, 2, 4]\n",
            "Success rate: 0.5\n"
          ]
        },
        {
          "output_type": "display_data",
          "data": {
            "text/plain": [
              "<Figure size 640x480 with 1 Axes>"
            ],
            "image/png": "[encoded data removed]"
          },
          "metadata": {}
        },
        {
          "output_type": "stream",
          "name": "stdout",
          "text": [
            "Beam Width: 4\n",
            "No solution found within maximum iterations.\n",
            "Solution found: [4, 0, 7, 5, 2, 6, 1, 3]\n",
            "Solution found: [2, 5, 1, 6, 4, 0, 7, 3]\n",
            "Solution found: [4, 2, 0, 6, 1, 7, 5, 3]\n",
            "Solution found: [5, 2, 6, 1, 7, 4, 0, 3]\n",
            "Solution found: [5, 2, 0, 6, 4, 7, 1, 3]\n",
            "Solution found: [2, 4, 6, 0, 3, 1, 7, 5]\n",
            "No solution found within maximum iterations.\n",
            "Solution found: [6, 2, 7, 1, 4, 0, 5, 3]\n",
            "Solution found: [1, 6, 4, 7, 0, 3, 5, 2]\n",
            "Success rate: 0.8\n"
          ]
        },
        {
          "output_type": "display_data",
          "data": {
            "text/plain": [
              "<Figure size 640x480 with 1 Axes>"
            ],
            "image/png": "[encoded data removed]"
          },
          "metadata": {}
        },
        {
          "output_type": "stream",
          "name": "stdout",
          "text": [
            "Beam Width: 6\n",
            "Solution found: [5, 1, 6, 0, 2, 4, 7, 3]\n",
            "Solution found: [3, 1, 6, 2, 5, 7, 0, 4]\n",
            "Solution found: [6, 3, 1, 7, 5, 0, 2, 4]\n",
            "Solution found: [3, 6, 0, 7, 4, 1, 5, 2]\n",
            "Solution found: [0, 5, 7, 2, 6, 3, 1, 4]\n",
            "Solution found: [1, 7, 5, 0, 2, 4, 6, 3]\n",
            "Solution found: [6, 3, 1, 4, 7, 0, 2, 5]\n",
            "Solution found: [2, 7, 3, 6, 0, 5, 1, 4]\n",
            "Solution found: [1, 5, 0, 6, 3, 7, 2, 4]\n",
            "Solution found: [5, 3, 1, 7, 4, 6, 0, 2]\n",
            "Success rate: 1.0\n"
          ]
        },
        {
          "output_type": "display_data",
          "data": {
            "text/plain": [
              "<Figure size 640x480 with 1 Axes>"
            ],
            "image/png": "[encoded data removed]"
          },
          "metadata": {}
        },
        {
          "output_type": "stream",
          "name": "stdout",
          "text": [
            "Beam Width: 8\n",
            "Solution found: [3, 7, 0, 2, 5, 1, 6, 4]\n",
            "Solution found: [5, 3, 0, 4, 7, 1, 6, 2]\n",
            "Solution found: [3, 0, 4, 7, 1, 6, 2, 5]\n",
            "No solution found within maximum iterations.\n",
            "No solution found within maximum iterations.\n",
            "Solution found: [3, 1, 7, 5, 0, 2, 4, 6]\n",
            "No solution found within maximum iterations.\n",
            "Solution found: [6, 0, 2, 7, 5, 3, 1, 4]\n",
            "No solution found within maximum iterations.\n",
            "Solution found: [4, 1, 5, 0, 6, 3, 7, 2]\n",
            "Success rate: 0.6\n"
          ]
        },
        {
          "output_type": "display_data",
          "data": {
            "text/plain": [
              "<Figure size 640x480 with 1 Axes>"
            ],
            "image/png": "[encoded data removed]"
          },
          "metadata": {}
        }
      ],
      "source": [
        "import random\n",
        "import numpy as np\n",
        "import matplotlib.pyplot as plt\n",
        "\n",
        "# Function to calculate conflicts for a given state\n",
        "def calculate_conflicts(state):\n",
        "    conflicts = 0\n",
        "    n = len(state)\n",
        "    for i in range(n):\n",
        "        for j in range(i + 1, n):\n",
        "            if state[i] == state[j] or abs(state[i] - state[j]) == j - i:\n",
        "                conflicts += 1\n",
        "    return conflicts\n",
        "\n",
        "# Function to generate successor states by making one move\n",
        "def generate_successors(state):\n",
        "    successors = []\n",
        "    n = len(state)\n",
        "    for i in range(n):\n",
        "        for j in range(n):\n",
        "            if j != state[i]:\n",
        "                successor = list(state)\n",
        "                successor[i] = j\n",
        "                successors.append(successor)\n",
        "    return successors\n",
        "\n",
        "# Function to perform local beam search\n",
        "def local_beam_search(n, k, max_iterations=1000):\n",
        "    states = [random.sample(range(n), n) for _ in range(k)]\n",
        "    iterations = 0\n",
        "    while iterations < max_iterations:\n",
        "        successors = []\n",
        "        for state in states:\n",
        "            if calculate_conflicts(state) == 0:\n",
        "                return state\n",
        "            successors.extend(generate_successors(state))\n",
        "        states = sorted(successors, key=calculate_conflicts)[:k]\n",
        "        iterations += 1\n",
        "    return None\n",
        "\n",
        "# Function to visualize the chessboard with queens\n",
        "def visualize_queens(state):\n",
        "    n = len(state)\n",
        "    board = np.zeros((n, n))\n",
        "    for i in range(n):\n",
        "        board[i][state[i]] = 1\n",
        "    plt.imshow(board, cmap='binary')\n",
        "    plt.xticks([])\n",
        "    plt.yticks([])\n",
        "    plt.title('Queens Placement')\n",
        "    plt.show()\n",
        "\n",
        "# Main function to run the experiment with different beam widths\n",
        "def main():\n",
        "    n = 8  # Chessboard size\n",
        "    beam_widths = [2, 4, 6, 8]  # Different beam widths to try\n",
        "    for k in beam_widths:\n",
        "        print(f\"Beam Width: {k}\")\n",
        "        solutions = []\n",
        "        for _ in range(10):  # Run the algorithm multiple times to observe variations\n",
        "            solution = local_beam_search(n, k)\n",
        "            if solution:\n",
        "                solutions.append(solution)\n",
        "                print(\"Solution found:\", solution)\n",
        "            else:\n",
        "                print(\"No solution found within maximum iterations.\")\n",
        "        print(\"Success rate:\", len(solutions) / 10)\n",
        "        if solutions:\n",
        "            visualize_queens(random.choice(solutions))\n",
        "\n",
        "if __name__ == \"__main__\":\n",
        "    main()\n"
      ]
    },
    {
      "cell_type": "code",
      "source": [],
      "metadata": {
        "id": "8xnoaDCD7LLM"
      },
      "execution_count": null,
      "outputs": []
    }
  ]
}